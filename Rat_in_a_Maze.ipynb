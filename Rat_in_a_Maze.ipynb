{
  "nbformat": 4,
  "nbformat_minor": 0,
  "metadata": {
    "colab": {
      "name": "Rat in a Maze.ipynb",
      "provenance": [],
      "collapsed_sections": []
    },
    "kernelspec": {
      "name": "python3",
      "display_name": "Python 3"
    },
    "language_info": {
      "name": "python"
    }
  },
  "cells": [
    {
      "cell_type": "code",
      "metadata": {
        "id": "NJUH2ezKpLzQ",
        "colab": {
          "base_uri": "https://localhost:8080/"
        },
        "outputId": "ceb02932-8d09-45f4-f163-dd3da0cf852e"
      },
      "source": [
        "import time\n",
        "def printMatriks(matriks):\n",
        "    for i in matriks:\n",
        "        for j in i:\n",
        "            print(str(j) + \" \", end =\"\")\n",
        "        print(\"\")\n",
        "    print()\n",
        " \n",
        "def promising(maze, x, y, N, sol):\n",
        "    return x >= 0 and x < N and y >= 0 and y < N and maze[x][y] == 1 and sol[x][y] == 0\n",
        "\n",
        "def solve(maze, x, y, N, sol):\n",
        "  if promising(maze, x, y, N, sol):\n",
        "    if x == N-1 and y == N-1 and maze[x][y] == 1:\n",
        "      sol[x][y] = 1\n",
        "      print(\"Solusi :\")\n",
        "      printMatriks(sol)\n",
        "    \n",
        "    sol[x][y] = 1\n",
        "    solve(maze, x+1, y, N, sol)\n",
        "    solve(maze, x, y+1, N, sol)\n",
        "    solve(maze, x-1, y, N, sol)\n",
        "    solve(maze, x, y-1, N, sol)\n",
        "    sol[x][y] = 0\n",
        "\n",
        "if __name__ == \"__main__\":\n",
        "  start = time.time()\n",
        "  N = 4\n",
        "  sol = [[0 for j in range(N)] for i in range(N)]\n",
        "  mazes  = [[1, 0, 0, 0],\n",
        "            [1, 1, 1, 1],\n",
        "            [0, 1, 0, 1],\n",
        "            [1, 1, 1, 1]]\n",
        "  print(\"Maze awal : \")\n",
        "  printMatriks(mazes)\n",
        "  solve(mazes, 0, 0, N, sol)\n",
        "  end = time.time()\n",
        "  print(f\"Running time : {1000*(end- start)} ms\")"
      ],
      "execution_count": null,
      "outputs": [
        {
          "output_type": "stream",
          "text": [
            "Maze awal : \n",
            "1 0 0 0 \n",
            "1 1 1 1 \n",
            "0 1 0 1 \n",
            "1 1 1 1 \n",
            "\n",
            "Solusi :\n",
            "1 0 0 0 \n",
            "1 1 0 0 \n",
            "0 1 0 0 \n",
            "0 1 1 1 \n",
            "\n",
            "Solusi :\n",
            "1 0 0 0 \n",
            "1 1 1 1 \n",
            "0 0 0 1 \n",
            "0 0 0 1 \n",
            "\n",
            "Running time : 6.312131881713867 ms\n"
          ],
          "name": "stdout"
        }
      ]
    },
    {
      "cell_type": "code",
      "metadata": {
        "id": "RcFLCUw2hA8D"
      },
      "source": [
        ""
      ],
      "execution_count": null,
      "outputs": []
    }
  ]
}